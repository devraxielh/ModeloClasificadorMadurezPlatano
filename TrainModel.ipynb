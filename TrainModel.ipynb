{
 "cells": [
  {
   "cell_type": "code",
   "execution_count": 6,
   "metadata": {},
   "outputs": [
    {
     "name": "stdout",
     "output_type": "stream",
     "text": [
      "Looking in indexes: https://download.pytorch.org/whl/cu121\n",
      "Requirement already satisfied: torch in c:\\users\\raxie\\anaconda3\\lib\\site-packages (2.6.0)\n",
      "Requirement already satisfied: torchvision in c:\\users\\raxie\\anaconda3\\lib\\site-packages (0.21.0)\n",
      "Collecting torchaudio\n",
      "  Downloading https://download.pytorch.org/whl/cu121/torchaudio-2.5.1%2Bcu121-cp312-cp312-win_amd64.whl (4.1 MB)\n",
      "     ---------------------------------------- 0.0/4.1 MB ? eta -:--:--\n",
      "     -- ------------------------------------- 0.3/4.1 MB ? eta -:--:--\n",
      "     --------------------------- ------------ 2.9/4.1 MB 12.9 MB/s eta 0:00:01\n",
      "     ---------------------------------------- 4.1/4.1 MB 12.4 MB/s eta 0:00:00\n",
      "Requirement already satisfied: filelock in c:\\users\\raxie\\anaconda3\\lib\\site-packages (from torch) (3.13.1)\n",
      "Requirement already satisfied: typing-extensions>=4.10.0 in c:\\users\\raxie\\anaconda3\\lib\\site-packages (from torch) (4.11.0)\n",
      "Requirement already satisfied: networkx in c:\\users\\raxie\\anaconda3\\lib\\site-packages (from torch) (3.3)\n",
      "Requirement already satisfied: jinja2 in c:\\users\\raxie\\anaconda3\\lib\\site-packages (from torch) (3.1.4)\n",
      "Requirement already satisfied: fsspec in c:\\users\\raxie\\anaconda3\\lib\\site-packages (from torch) (2024.6.1)\n",
      "Requirement already satisfied: setuptools in c:\\users\\raxie\\anaconda3\\lib\\site-packages (from torch) (75.1.0)\n",
      "Requirement already satisfied: sympy==1.13.1 in c:\\users\\raxie\\anaconda3\\lib\\site-packages (from torch) (1.13.1)\n",
      "Requirement already satisfied: mpmath<1.4,>=1.1.0 in c:\\users\\raxie\\anaconda3\\lib\\site-packages (from sympy==1.13.1->torch) (1.3.0)\n",
      "Requirement already satisfied: numpy in c:\\users\\raxie\\anaconda3\\lib\\site-packages (from torchvision) (1.26.4)\n",
      "Requirement already satisfied: pillow!=8.3.*,>=5.3.0 in c:\\users\\raxie\\anaconda3\\lib\\site-packages (from torchvision) (10.4.0)\n",
      "INFO: pip is looking at multiple versions of torchaudio to determine which version is compatible with other requirements. This could take a while.\n",
      "  Downloading https://download.pytorch.org/whl/cu121/torchaudio-2.5.0%2Bcu121-cp312-cp312-win_amd64.whl (4.1 MB)\n",
      "     ---------------------------------------- 0.0/4.1 MB ? eta -:--:--\n",
      "     -- ------------------------------------- 0.3/4.1 MB ? eta -:--:--\n",
      "     ------------------------------ --------- 3.1/4.1 MB 13.2 MB/s eta 0:00:01\n",
      "     ---------------------------------------- 4.1/4.1 MB 11.8 MB/s eta 0:00:00\n",
      "  Downloading https://download.pytorch.org/whl/cu121/torchaudio-2.4.1%2Bcu121-cp312-cp312-win_amd64.whl (4.1 MB)\n",
      "     ---------------------------------------- 0.0/4.1 MB ? eta -:--:--\n",
      "     -- ------------------------------------- 0.3/4.1 MB ? eta -:--:--\n",
      "     ------------------------------ --------- 3.1/4.1 MB 13.2 MB/s eta 0:00:01\n",
      "     ---------------------------------------- 4.1/4.1 MB 11.7 MB/s eta 0:00:00\n",
      "  Downloading https://download.pytorch.org/whl/cu121/torchaudio-2.4.0%2Bcu121-cp312-cp312-win_amd64.whl (4.1 MB)\n",
      "     ---------------------------------------- 0.0/4.1 MB ? eta -:--:--\n",
      "     -- ------------------------------------- 0.3/4.1 MB ? eta -:--:--\n",
      "     ---------------------------- ----------- 2.9/4.1 MB 12.0 MB/s eta 0:00:01\n",
      "     ---------------------------------------- 4.1/4.1 MB 11.7 MB/s eta 0:00:00\n",
      "  Downloading https://download.pytorch.org/whl/cu121/torchaudio-2.3.1%2Bcu121-cp312-cp312-win_amd64.whl (4.1 MB)\n",
      "     ---------------------------------------- 0.0/4.1 MB ? eta -:--:--\n",
      "     ---------------------------------------- 4.1/4.1 MB 40.4 MB/s eta 0:00:00\n",
      "  Downloading https://download.pytorch.org/whl/cu121/torchaudio-2.3.0%2Bcu121-cp312-cp312-win_amd64.whl (4.1 MB)\n",
      "     ---------------------------------------- 0.0/4.1 MB ? eta -:--:--\n",
      "     -- ------------------------------------- 0.3/4.1 MB ? eta -:--:--\n",
      "     ------------------------- -------------- 2.6/4.1 MB 11.6 MB/s eta 0:00:01\n",
      "     ---------------------------------------- 4.1/4.1 MB 12.8 MB/s eta 0:00:00\n",
      "  Downloading https://download.pytorch.org/whl/cu121/torchaudio-2.2.2%2Bcu121-cp312-cp312-win_amd64.whl (4.0 MB)\n",
      "     ---------------------------------------- 0.0/4.0 MB ? eta -:--:--\n",
      "     -- ------------------------------------- 0.3/4.0 MB ? eta -:--:--\n",
      "     ---------------------------- ----------- 2.9/4.0 MB 12.9 MB/s eta 0:00:01\n",
      "     ---------------------------------------- 4.0/4.0 MB 12.8 MB/s eta 0:00:00\n",
      "  Downloading https://download.pytorch.org/whl/cu121/torchaudio-2.2.1%2Bcu121-cp312-cp312-win_amd64.whl (4.0 MB)\n",
      "     ---------------------------------------- 0.0/4.0 MB ? eta -:--:--\n",
      "     -- ------------------------------------- 0.3/4.0 MB ? eta -:--:--\n",
      "     ---------------------------- ----------- 2.9/4.0 MB 12.9 MB/s eta 0:00:01\n",
      "     ---------------------------------------- 4.0/4.0 MB 12.8 MB/s eta 0:00:00\n",
      "INFO: pip is still looking at multiple versions of torchaudio to determine which version is compatible with other requirements. This could take a while.\n",
      "  Downloading https://download.pytorch.org/whl/cu121/torchaudio-2.2.0%2Bcu121-cp312-cp312-win_amd64.whl (4.0 MB)\n",
      "     ---------------------------------------- 0.0/4.0 MB ? eta -:--:--\n",
      "     ---------------------------------------- 4.0/4.0 MB 61.1 MB/s eta 0:00:00\n",
      "Collecting torchvision\n",
      "  Downloading https://download.pytorch.org/whl/cu121/torchvision-0.20.1%2Bcu121-cp312-cp312-win_amd64.whl (6.1 MB)\n",
      "     ---------------------------------------- 0.0/6.1 MB ? eta -:--:--\n",
      "     - -------------------------------------- 0.3/6.1 MB ? eta -:--:--\n",
      "     ------------------- -------------------- 2.9/6.1 MB 12.9 MB/s eta 0:00:01\n",
      "     ---------------------------------------- 6.1/6.1 MB 16.9 MB/s eta 0:00:00\n",
      "Collecting torch\n",
      "  Downloading https://download.pytorch.org/whl/cu121/torch-2.5.1%2Bcu121-cp312-cp312-win_amd64.whl (2449.3 MB)\n",
      "     ---------------------------------------- 0.0/2.4 GB ? eta -:--:--\n",
      "     ---------------------------------------- 0.0/2.4 GB ? eta -:--:--\n",
      "     ---------------------------------------- 0.0/2.4 GB 10.8 MB/s eta 0:03:48\n",
      "     ---------------------------------------- 0.0/2.4 GB 23.2 MB/s eta 0:01:46\n",
      "     ---------------------------------------- 0.0/2.4 GB 36.1 MB/s eta 0:01:08\n",
      "      --------------------------------------- 0.0/2.4 GB 41.0 MB/s eta 0:00:59\n",
      "      --------------------------------------- 0.0/2.4 GB 41.6 MB/s eta 0:00:58\n",
      "      --------------------------------------- 0.1/2.4 GB 45.9 MB/s eta 0:00:53\n",
      "     - -------------------------------------- 0.1/2.4 GB 47.2 MB/s eta 0:00:51\n",
      "     - -------------------------------------- 0.1/2.4 GB 47.5 MB/s eta 0:00:50\n",
      "     - -------------------------------------- 0.1/2.4 GB 48.9 MB/s eta 0:00:49\n",
      "     - -------------------------------------- 0.1/2.4 GB 49.2 MB/s eta 0:00:48\n",
      "     - -------------------------------------- 0.1/2.4 GB 49.6 MB/s eta 0:00:48\n",
      "     -- ------------------------------------- 0.1/2.4 GB 50.5 MB/s eta 0:00:46\n",
      "     -- ------------------------------------- 0.1/2.4 GB 50.6 MB/s eta 0:00:46\n",
      "     -- ------------------------------------- 0.1/2.4 GB 50.6 MB/s eta 0:00:46\n",
      "     -- ------------------------------------- 0.2/2.4 GB 51.2 MB/s eta 0:00:45\n",
      "     -- ------------------------------------- 0.2/2.4 GB 51.6 MB/s eta 0:00:45\n",
      "     -- ------------------------------------- 0.2/2.4 GB 51.4 MB/s eta 0:00:45\n",
      "     --- ------------------------------------ 0.2/2.4 GB 51.6 MB/s eta 0:00:44\n",
      "     --- ------------------------------------ 0.2/2.4 GB 52.2 MB/s eta 0:00:44\n",
      "     --- ------------------------------------ 0.2/2.4 GB 51.9 MB/s eta 0:00:44\n",
      "     --- ------------------------------------ 0.2/2.4 GB 51.8 MB/s eta 0:00:43\n",
      "     --- ------------------------------------ 0.2/2.4 GB 51.6 MB/s eta 0:00:43\n",
      "     ---- ----------------------------------- 0.2/2.4 GB 51.8 MB/s eta 0:00:43\n",
      "     ---- ----------------------------------- 0.3/2.4 GB 52.5 MB/s eta 0:00:42\n",
      "     ---- ----------------------------------- 0.3/2.4 GB 54.2 MB/s eta 0:00:41\n",
      "     ---- ----------------------------------- 0.3/2.4 GB 54.8 MB/s eta 0:00:40\n",
      "     ---- ----------------------------------- 0.3/2.4 GB 54.6 MB/s eta 0:00:40\n",
      "     ---- ----------------------------------- 0.3/2.4 GB 54.9 MB/s eta 0:00:40\n",
      "     ----- ---------------------------------- 0.3/2.4 GB 53.7 MB/s eta 0:00:40\n",
      "     ----- ---------------------------------- 0.3/2.4 GB 54.2 MB/s eta 0:00:40\n",
      "     ----- ---------------------------------- 0.3/2.4 GB 54.4 MB/s eta 0:00:39\n",
      "     ----- ---------------------------------- 0.3/2.4 GB 54.8 MB/s eta 0:00:39\n",
      "     ----- ---------------------------------- 0.4/2.4 GB 54.8 MB/s eta 0:00:39\n",
      "     ------ --------------------------------- 0.4/2.4 GB 55.0 MB/s eta 0:00:38\n",
      "     ------ --------------------------------- 0.4/2.4 GB 54.2 MB/s eta 0:00:39\n",
      "     ------ --------------------------------- 0.4/2.4 GB 55.1 MB/s eta 0:00:38\n",
      "     ------ --------------------------------- 0.4/2.4 GB 54.4 MB/s eta 0:00:38\n",
      "     ------ --------------------------------- 0.4/2.4 GB 54.8 MB/s eta 0:00:38\n",
      "     ------- -------------------------------- 0.4/2.4 GB 55.1 MB/s eta 0:00:37\n",
      "     ------- -------------------------------- 0.4/2.4 GB 55.3 MB/s eta 0:00:37\n",
      "     ------- -------------------------------- 0.5/2.4 GB 55.5 MB/s eta 0:00:36\n",
      "     ------- -------------------------------- 0.5/2.4 GB 55.5 MB/s eta 0:00:36\n",
      "     ------- -------------------------------- 0.5/2.4 GB 56.1 MB/s eta 0:00:36\n",
      "     -------- ------------------------------- 0.5/2.4 GB 55.7 MB/s eta 0:00:36\n",
      "     -------- ------------------------------- 0.5/2.4 GB 56.1 MB/s eta 0:00:35\n",
      "     -------- ------------------------------- 0.5/2.4 GB 56.4 MB/s eta 0:00:35\n",
      "     -------- ------------------------------- 0.5/2.4 GB 56.4 MB/s eta 0:00:35\n",
      "     -------- ------------------------------- 0.5/2.4 GB 57.0 MB/s eta 0:00:34\n",
      "     -------- ------------------------------- 0.5/2.4 GB 55.3 MB/s eta 0:00:35\n",
      "     --------- ------------------------------ 0.6/2.4 GB 55.1 MB/s eta 0:00:35\n",
      "     --------- ------------------------------ 0.6/2.4 GB 55.1 MB/s eta 0:00:35\n",
      "     --------- ------------------------------ 0.6/2.4 GB 55.7 MB/s eta 0:00:34\n",
      "     --------- ------------------------------ 0.6/2.4 GB 54.8 MB/s eta 0:00:35\n",
      "     --------- ------------------------------ 0.6/2.4 GB 53.7 MB/s eta 0:00:35\n",
      "     --------- ------------------------------ 0.6/2.4 GB 54.4 MB/s eta 0:00:34\n",
      "     ---------- ----------------------------- 0.6/2.4 GB 54.4 MB/s eta 0:00:34\n",
      "     ---------- ----------------------------- 0.6/2.4 GB 54.6 MB/s eta 0:00:34\n",
      "     ---------- ----------------------------- 0.6/2.4 GB 54.4 MB/s eta 0:00:34\n",
      "     ---------- ----------------------------- 0.7/2.4 GB 54.6 MB/s eta 0:00:33\n",
      "     ---------- ----------------------------- 0.7/2.4 GB 54.4 MB/s eta 0:00:33\n",
      "     ----------- ---------------------------- 0.7/2.4 GB 54.4 MB/s eta 0:00:33\n",
      "     ----------- ---------------------------- 0.7/2.4 GB 54.4 MB/s eta 0:00:33\n",
      "     ----------- ---------------------------- 0.7/2.4 GB 54.4 MB/s eta 0:00:33\n",
      "     ----------- ---------------------------- 0.7/2.4 GB 54.6 MB/s eta 0:00:32\n",
      "     ----------- ---------------------------- 0.7/2.4 GB 54.2 MB/s eta 0:00:32\n",
      "     ------------ --------------------------- 0.7/2.4 GB 54.2 MB/s eta 0:00:32\n",
      "     ------------ --------------------------- 0.7/2.4 GB 54.2 MB/s eta 0:00:32\n",
      "     ------------ --------------------------- 0.7/2.4 GB 51.9 MB/s eta 0:00:33\n",
      "     ------------ --------------------------- 0.8/2.4 GB 53.7 MB/s eta 0:00:32\n",
      "     ------------ --------------------------- 0.8/2.4 GB 53.7 MB/s eta 0:00:32\n",
      "     ------------ --------------------------- 0.8/2.4 GB 53.5 MB/s eta 0:00:31\n",
      "     ------------- -------------------------- 0.8/2.4 GB 53.9 MB/s eta 0:00:31\n",
      "     ------------- -------------------------- 0.8/2.4 GB 55.9 MB/s eta 0:00:30\n",
      "     ------------- -------------------------- 0.8/2.4 GB 55.3 MB/s eta 0:00:30\n",
      "     ------------- -------------------------- 0.8/2.4 GB 56.1 MB/s eta 0:00:29\n",
      "     ------------- -------------------------- 0.8/2.4 GB 57.2 MB/s eta 0:00:28\n",
      "     -------------- ------------------------- 0.9/2.4 GB 56.1 MB/s eta 0:00:29\n",
      "     -------------- ------------------------- 0.9/2.4 GB 56.2 MB/s eta 0:00:29\n",
      "     -------------- ------------------------- 0.9/2.4 GB 56.2 MB/s eta 0:00:28\n",
      "     -------------- ------------------------- 0.9/2.4 GB 56.1 MB/s eta 0:00:28\n",
      "     -------------- ------------------------- 0.9/2.4 GB 56.1 MB/s eta 0:00:28\n",
      "     -------------- ------------------------- 0.9/2.4 GB 55.9 MB/s eta 0:00:28\n",
      "     --------------- ------------------------ 0.9/2.4 GB 55.7 MB/s eta 0:00:28\n",
      "     --------------- ------------------------ 0.9/2.4 GB 55.3 MB/s eta 0:00:28\n",
      "     --------------- ------------------------ 1.0/2.4 GB 55.0 MB/s eta 0:00:28\n",
      "     --------------- ------------------------ 1.0/2.4 GB 55.0 MB/s eta 0:00:28\n",
      "     --------------- ------------------------ 1.0/2.4 GB 54.9 MB/s eta 0:00:27\n",
      "     ---------------- ----------------------- 1.0/2.4 GB 55.0 MB/s eta 0:00:27\n",
      "     ---------------- ----------------------- 1.0/2.4 GB 55.7 MB/s eta 0:00:27\n",
      "     ---------------- ----------------------- 1.0/2.4 GB 57.8 MB/s eta 0:00:25\n",
      "     ---------------- ----------------------- 1.0/2.4 GB 57.0 MB/s eta 0:00:26\n",
      "     ---------------- ----------------------- 1.0/2.4 GB 55.7 MB/s eta 0:00:26\n",
      "     ----------------- ---------------------- 1.0/2.4 GB 55.7 MB/s eta 0:00:26\n",
      "     ----------------- ---------------------- 1.1/2.4 GB 55.7 MB/s eta 0:00:25\n",
      "     ----------------- ---------------------- 1.1/2.4 GB 55.9 MB/s eta 0:00:25\n",
      "     ----------------- ---------------------- 1.1/2.4 GB 56.4 MB/s eta 0:00:25\n",
      "     ----------------- ---------------------- 1.1/2.4 GB 56.4 MB/s eta 0:00:25\n",
      "     ------------------ --------------------- 1.1/2.4 GB 56.4 MB/s eta 0:00:24\n",
      "     ------------------ --------------------- 1.1/2.4 GB 56.8 MB/s eta 0:00:24\n",
      "     ------------------ --------------------- 1.1/2.4 GB 57.2 MB/s eta 0:00:24\n",
      "     ------------------ --------------------- 1.1/2.4 GB 57.0 MB/s eta 0:00:23\n",
      "     ------------------ --------------------- 1.2/2.4 GB 57.2 MB/s eta 0:00:23\n",
      "     ------------------- -------------------- 1.2/2.4 GB 57.2 MB/s eta 0:00:23\n",
      "     ------------------- -------------------- 1.2/2.4 GB 57.4 MB/s eta 0:00:23\n",
      "     ------------------- -------------------- 1.2/2.4 GB 58.0 MB/s eta 0:00:22\n",
      "     ------------------- -------------------- 1.2/2.4 GB 57.8 MB/s eta 0:00:22\n",
      "     ------------------- -------------------- 1.2/2.4 GB 57.8 MB/s eta 0:00:22\n",
      "     ------------------- -------------------- 1.2/2.4 GB 57.6 MB/s eta 0:00:22\n",
      "     -------------------- ------------------- 1.2/2.4 GB 58.0 MB/s eta 0:00:21\n",
      "     -------------------- ------------------- 1.2/2.4 GB 57.4 MB/s eta 0:00:21\n",
      "     -------------------- ------------------- 1.3/2.4 GB 57.4 MB/s eta 0:00:21\n",
      "     -------------------- ------------------- 1.3/2.4 GB 57.2 MB/s eta 0:00:21\n",
      "     -------------------- ------------------- 1.3/2.4 GB 57.4 MB/s eta 0:00:21\n",
      "     --------------------- ------------------ 1.3/2.4 GB 57.2 MB/s eta 0:00:21\n",
      "     --------------------- ------------------ 1.3/2.4 GB 57.0 MB/s eta 0:00:21\n",
      "     --------------------- ------------------ 1.3/2.4 GB 56.6 MB/s eta 0:00:21\n",
      "     --------------------- ------------------ 1.3/2.4 GB 56.8 MB/s eta 0:00:20\n",
      "     --------------------- ------------------ 1.3/2.4 GB 56.8 MB/s eta 0:00:20\n",
      "     ---------------------- ----------------- 1.3/2.4 GB 56.8 MB/s eta 0:00:20\n",
      "     ---------------------- ----------------- 1.4/2.4 GB 56.6 MB/s eta 0:00:20\n",
      "     ---------------------- ----------------- 1.4/2.4 GB 56.6 MB/s eta 0:00:19\n",
      "     ---------------------- ----------------- 1.4/2.4 GB 56.8 MB/s eta 0:00:19\n",
      "     ---------------------- ----------------- 1.4/2.4 GB 56.8 MB/s eta 0:00:19\n",
      "     ----------------------- ---------------- 1.4/2.4 GB 56.8 MB/s eta 0:00:19\n",
      "     ----------------------- ---------------- 1.4/2.4 GB 56.8 MB/s eta 0:00:19\n",
      "     ----------------------- ---------------- 1.4/2.4 GB 56.8 MB/s eta 0:00:18\n",
      "     ----------------------- ---------------- 1.4/2.4 GB 56.6 MB/s eta 0:00:18\n",
      "     ----------------------- ---------------- 1.5/2.4 GB 56.6 MB/s eta 0:00:18\n",
      "     ----------------------- ---------------- 1.5/2.4 GB 57.2 MB/s eta 0:00:18\n",
      "     ------------------------ --------------- 1.5/2.4 GB 56.6 MB/s eta 0:00:18\n",
      "     ------------------------ --------------- 1.5/2.4 GB 57.0 MB/s eta 0:00:17\n",
      "     ------------------------ --------------- 1.5/2.4 GB 56.8 MB/s eta 0:00:17\n",
      "     ------------------------ --------------- 1.5/2.4 GB 57.4 MB/s eta 0:00:17\n",
      "     ------------------------ --------------- 1.5/2.4 GB 57.6 MB/s eta 0:00:16\n",
      "     ------------------------- -------------- 1.5/2.4 GB 57.0 MB/s eta 0:00:17\n",
      "     ------------------------- -------------- 1.5/2.4 GB 55.7 MB/s eta 0:00:17\n",
      "     ------------------------- -------------- 1.6/2.4 GB 55.9 MB/s eta 0:00:17\n",
      "     ------------------------- -------------- 1.6/2.4 GB 55.7 MB/s eta 0:00:16\n",
      "     ------------------------- -------------- 1.6/2.4 GB 55.7 MB/s eta 0:00:16\n",
      "     ------------------------- -------------- 1.6/2.4 GB 55.9 MB/s eta 0:00:16\n",
      "     -------------------------- ------------- 1.6/2.4 GB 55.9 MB/s eta 0:00:16\n",
      "     -------------------------- ------------- 1.6/2.4 GB 55.3 MB/s eta 0:00:16\n",
      "     -------------------------- ------------- 1.6/2.4 GB 55.1 MB/s eta 0:00:15\n",
      "     -------------------------- ------------- 1.6/2.4 GB 55.1 MB/s eta 0:00:15\n",
      "     -------------------------- ------------- 1.6/2.4 GB 54.9 MB/s eta 0:00:15\n",
      "     --------------------------- ------------ 1.7/2.4 GB 55.0 MB/s eta 0:00:15\n",
      "     --------------------------- ------------ 1.7/2.4 GB 54.6 MB/s eta 0:00:15\n",
      "     --------------------------- ------------ 1.7/2.4 GB 54.6 MB/s eta 0:00:15\n",
      "     --------------------------- ------------ 1.7/2.4 GB 54.6 MB/s eta 0:00:14\n",
      "     --------------------------- ------------ 1.7/2.4 GB 54.1 MB/s eta 0:00:14\n",
      "     --------------------------- ------------ 1.7/2.4 GB 53.9 MB/s eta 0:00:14\n",
      "     ---------------------------- ----------- 1.7/2.4 GB 53.9 MB/s eta 0:00:14\n",
      "     ---------------------------- ----------- 1.7/2.4 GB 53.9 MB/s eta 0:00:14\n",
      "     ---------------------------- ----------- 1.7/2.4 GB 53.7 MB/s eta 0:00:14\n",
      "     ---------------------------- ----------- 1.8/2.4 GB 53.0 MB/s eta 0:00:14\n",
      "     ---------------------------- ----------- 1.8/2.4 GB 52.9 MB/s eta 0:00:13\n",
      "     ---------------------------- ----------- 1.8/2.4 GB 51.9 MB/s eta 0:00:14\n",
      "     ----------------------------- ---------- 1.8/2.4 GB 52.1 MB/s eta 0:00:13\n",
      "     ----------------------------- ---------- 1.8/2.4 GB 53.0 MB/s eta 0:00:13\n",
      "     ----------------------------- ---------- 1.8/2.4 GB 52.2 MB/s eta 0:00:13\n",
      "     ----------------------------- ---------- 1.8/2.4 GB 52.4 MB/s eta 0:00:13\n",
      "     ----------------------------- ---------- 1.8/2.4 GB 52.4 MB/s eta 0:00:12\n",
      "     ----------------------------- ---------- 1.8/2.4 GB 52.2 MB/s eta 0:00:12\n",
      "     ------------------------------ --------- 1.8/2.4 GB 51.7 MB/s eta 0:00:12\n",
      "     ------------------------------ --------- 1.9/2.4 GB 51.9 MB/s eta 0:00:12\n",
      "     ------------------------------ --------- 1.9/2.4 GB 51.9 MB/s eta 0:00:12\n",
      "     ------------------------------ --------- 1.9/2.4 GB 52.1 MB/s eta 0:00:11\n",
      "     ------------------------------ --------- 1.9/2.4 GB 52.1 MB/s eta 0:00:11\n",
      "     ------------------------------- -------- 1.9/2.4 GB 52.4 MB/s eta 0:00:11\n",
      "     ------------------------------- -------- 1.9/2.4 GB 52.4 MB/s eta 0:00:11\n",
      "     ------------------------------- -------- 1.9/2.4 GB 52.4 MB/s eta 0:00:10\n",
      "     ------------------------------- -------- 1.9/2.4 GB 52.4 MB/s eta 0:00:10\n",
      "     ------------------------------- -------- 2.0/2.4 GB 52.5 MB/s eta 0:00:10\n",
      "     -------------------------------- ------- 2.0/2.4 GB 52.4 MB/s eta 0:00:10\n",
      "     -------------------------------- ------- 2.0/2.4 GB 53.0 MB/s eta 0:00:09\n",
      "     -------------------------------- ------- 2.0/2.4 GB 53.0 MB/s eta 0:00:09\n",
      "     -------------------------------- ------- 2.0/2.4 GB 53.2 MB/s eta 0:00:09\n",
      "     -------------------------------- ------- 2.0/2.4 GB 54.1 MB/s eta 0:00:09\n",
      "     -------------------------------- ------- 2.0/2.4 GB 53.7 MB/s eta 0:00:09\n",
      "     --------------------------------- ------ 2.0/2.4 GB 54.2 MB/s eta 0:00:08\n",
      "     --------------------------------- ------ 2.0/2.4 GB 53.6 MB/s eta 0:00:08\n",
      "     --------------------------------- ------ 2.0/2.4 GB 53.7 MB/s eta 0:00:08\n",
      "     --------------------------------- ------ 2.1/2.4 GB 52.9 MB/s eta 0:00:08\n",
      "     --------------------------------- ------ 2.1/2.4 GB 53.9 MB/s eta 0:00:08\n",
      "     --------------------------------- ------ 2.1/2.4 GB 53.7 MB/s eta 0:00:07\n",
      "     ---------------------------------- ----- 2.1/2.4 GB 52.9 MB/s eta 0:00:07\n",
      "     ---------------------------------- ----- 2.1/2.4 GB 53.2 MB/s eta 0:00:07\n",
      "     ---------------------------------- ----- 2.1/2.4 GB 53.2 MB/s eta 0:00:07\n",
      "     ---------------------------------- ----- 2.1/2.4 GB 53.7 MB/s eta 0:00:07\n",
      "     ---------------------------------- ----- 2.1/2.4 GB 53.9 MB/s eta 0:00:06\n",
      "     ----------------------------------- ---- 2.1/2.4 GB 53.7 MB/s eta 0:00:06\n",
      "     ----------------------------------- ---- 2.2/2.4 GB 53.7 MB/s eta 0:00:06\n",
      "     ----------------------------------- ---- 2.2/2.4 GB 54.1 MB/s eta 0:00:06\n",
      "     ----------------------------------- ---- 2.2/2.4 GB 53.9 MB/s eta 0:00:05\n",
      "     ----------------------------------- ---- 2.2/2.4 GB 53.7 MB/s eta 0:00:05\n",
      "     ----------------------------------- ---- 2.2/2.4 GB 53.2 MB/s eta 0:00:05\n",
      "     ------------------------------------ --- 2.2/2.4 GB 53.0 MB/s eta 0:00:05\n",
      "     ------------------------------------ --- 2.2/2.4 GB 53.2 MB/s eta 0:00:05\n",
      "     ------------------------------------ --- 2.2/2.4 GB 52.9 MB/s eta 0:00:05\n",
      "     ------------------------------------ --- 2.2/2.4 GB 52.5 MB/s eta 0:00:04\n",
      "     ------------------------------------ --- 2.3/2.4 GB 52.4 MB/s eta 0:00:04\n",
      "     ------------------------------------- -- 2.3/2.4 GB 53.0 MB/s eta 0:00:04\n",
      "     ------------------------------------- -- 2.3/2.4 GB 52.9 MB/s eta 0:00:04\n",
      "     ------------------------------------- -- 2.3/2.4 GB 52.9 MB/s eta 0:00:03\n",
      "     ------------------------------------- -- 2.3/2.4 GB 53.6 MB/s eta 0:00:03\n",
      "     ------------------------------------- -- 2.3/2.4 GB 54.8 MB/s eta 0:00:03\n",
      "     ------------------------------------- -- 2.3/2.4 GB 54.8 MB/s eta 0:00:03\n",
      "     -------------------------------------- - 2.3/2.4 GB 54.8 MB/s eta 0:00:03\n",
      "     -------------------------------------- - 2.3/2.4 GB 55.3 MB/s eta 0:00:02\n",
      "     -------------------------------------- - 2.4/2.4 GB 53.9 MB/s eta 0:00:02\n",
      "     -------------------------------------- - 2.4/2.4 GB 53.7 MB/s eta 0:00:02\n",
      "     -------------------------------------- - 2.4/2.4 GB 53.4 MB/s eta 0:00:02\n",
      "     -------------------------------------- - 2.4/2.4 GB 53.0 MB/s eta 0:00:02\n",
      "     ---------------------------------------  2.4/2.4 GB 53.0 MB/s eta 0:00:01\n",
      "     ---------------------------------------  2.4/2.4 GB 53.0 MB/s eta 0:00:01\n",
      "     ---------------------------------------  2.4/2.4 GB 53.0 MB/s eta 0:00:01\n",
      "     ---------------------------------------  2.4/2.4 GB 52.5 MB/s eta 0:00:01\n",
      "     ---------------------------------------  2.4/2.4 GB 52.4 MB/s eta 0:00:01\n",
      "     ---------------------------------------  2.4/2.4 GB 51.4 MB/s eta 0:00:01\n",
      "     ---------------------------------------  2.4/2.4 GB 51.6 MB/s eta 0:00:01\n",
      "     ---------------------------------------  2.4/2.4 GB 51.6 MB/s eta 0:00:01\n",
      "     ---------------------------------------  2.4/2.4 GB 51.6 MB/s eta 0:00:01\n",
      "     ---------------------------------------  2.4/2.4 GB 51.6 MB/s eta 0:00:01\n",
      "     ---------------------------------------  2.4/2.4 GB 51.6 MB/s eta 0:00:01\n",
      "     ---------------------------------------  2.4/2.4 GB 51.6 MB/s eta 0:00:01\n",
      "     ---------------------------------------  2.4/2.4 GB 51.6 MB/s eta 0:00:01\n",
      "     ---------------------------------------  2.4/2.4 GB 51.6 MB/s eta 0:00:01\n",
      "     ---------------------------------------  2.4/2.4 GB 51.6 MB/s eta 0:00:01\n",
      "     ---------------------------------------  2.4/2.4 GB 51.6 MB/s eta 0:00:01\n",
      "     ---------------------------------------  2.4/2.4 GB 51.6 MB/s eta 0:00:01\n",
      "     ---------------------------------------  2.4/2.4 GB 51.6 MB/s eta 0:00:01\n",
      "     ---------------------------------------  2.4/2.4 GB 51.6 MB/s eta 0:00:01\n",
      "     ---------------------------------------  2.4/2.4 GB 51.6 MB/s eta 0:00:01\n",
      "     ---------------------------------------  2.4/2.4 GB 51.6 MB/s eta 0:00:01\n",
      "     ---------------------------------------  2.4/2.4 GB 51.6 MB/s eta 0:00:01\n",
      "     ---------------------------------------  2.4/2.4 GB 51.6 MB/s eta 0:00:01\n",
      "     ---------------------------------------  2.4/2.4 GB 51.6 MB/s eta 0:00:01\n",
      "     ---------------------------------------  2.4/2.4 GB 51.6 MB/s eta 0:00:01\n",
      "     ---------------------------------------  2.4/2.4 GB 51.6 MB/s eta 0:00:01\n",
      "     ---------------------------------------  2.4/2.4 GB 51.6 MB/s eta 0:00:01\n",
      "     ---------------------------------------  2.4/2.4 GB 51.6 MB/s eta 0:00:01\n",
      "     ---------------------------------------- 2.4/2.4 GB 26.7 MB/s eta 0:00:00\n",
      "Requirement already satisfied: MarkupSafe>=2.0 in c:\\users\\raxie\\anaconda3\\lib\\site-packages (from jinja2->torch) (2.1.3)\n",
      "Installing collected packages: torch, torchvision, torchaudio\n",
      "  Attempting uninstall: torch\n",
      "    Found existing installation: torch 2.6.0\n",
      "    Uninstalling torch-2.6.0:\n",
      "      Successfully uninstalled torch-2.6.0\n",
      "  Attempting uninstall: torchvision\n",
      "    Found existing installation: torchvision 0.21.0\n",
      "    Uninstalling torchvision-0.21.0:\n",
      "      Successfully uninstalled torchvision-0.21.0\n",
      "Successfully installed torch-2.5.1+cu121 torchaudio-2.5.1+cu121 torchvision-0.20.1+cu121\n"
     ]
    },
    {
     "name": "stderr",
     "output_type": "stream",
     "text": [
      "  WARNING: Failed to remove contents in a temporary directory 'C:\\Users\\Raxie\\anaconda3\\Lib\\site-packages\\~orch'.\n",
      "  You can safely remove it manually.\n"
     ]
    }
   ],
   "source": [
    "! pip install torch torchvision torchaudio --index-url https://download.pytorch.org/whl/cu121"
   ]
  },
  {
   "cell_type": "code",
   "execution_count": null,
   "metadata": {},
   "outputs": [],
   "source": [
    "import torch\n",
    "import torch.nn as nn\n",
    "import torch.optim as optim\n",
    "import torchvision\n",
    "import torchvision.transforms as transforms\n",
    "from torchvision import datasets, models\n",
    "from torch.utils.data import DataLoader\n",
    "import time"
   ]
  },
  {
   "cell_type": "code",
   "execution_count": 6,
   "metadata": {},
   "outputs": [],
   "source": [
    "# Configuración de dispositivo\n",
    "device = torch.device(\"cuda\" if torch.cuda.is_available() else \"cpu\")"
   ]
  },
  {
   "cell_type": "code",
   "execution_count": 9,
   "metadata": {},
   "outputs": [],
   "source": [
    "# Transformaciones para normalizar imágenes (Requeridas por ResNet)\n",
    "transform = transforms.Compose([\n",
    "    transforms.Resize((224, 224)),  # Redimensionar imágenes\n",
    "    transforms.ToTensor(),  # Convertir a tensores\n",
    "    transforms.Normalize(mean=[0.485, 0.456, 0.406], std=[0.229, 0.224, 0.225])  # Normalización de ResNet\n",
    "])"
   ]
  },
  {
   "cell_type": "code",
   "execution_count": 10,
   "metadata": {},
   "outputs": [],
   "source": [
    "# Rutas a los conjuntos de entrenamiento y validación\n",
    "train_dir = \"./Data/train\"\n",
    "valid_dir = \"./Data/valid\""
   ]
  },
  {
   "cell_type": "code",
   "execution_count": 11,
   "metadata": {},
   "outputs": [],
   "source": [
    "# Cargar imágenes desde carpetas (PyTorch usa estructura basada en subcarpetas para cada clase)\n",
    "train_dataset = datasets.ImageFolder(root=train_dir, transform=transform)\n",
    "valid_dataset = datasets.ImageFolder(root=valid_dir, transform=transform)"
   ]
  },
  {
   "cell_type": "code",
   "execution_count": 12,
   "metadata": {},
   "outputs": [],
   "source": [
    "# Definir DataLoaders\n",
    "batch_size = 32\n",
    "train_loader = DataLoader(train_dataset, batch_size=batch_size, shuffle=True, num_workers=2)\n",
    "valid_loader = DataLoader(valid_dataset, batch_size=batch_size, shuffle=False, num_workers=2)"
   ]
  },
  {
   "cell_type": "code",
   "execution_count": 14,
   "metadata": {},
   "outputs": [
    {
     "name": "stdout",
     "output_type": "stream",
     "text": [
      "Clases detectadas: ['freshripe', 'freshunripe', 'overripe', 'ripe', 'rotten', 'unripe']\n"
     ]
    }
   ],
   "source": [
    "# Verificar categorías detectadas\n",
    "print(\"Clases detectadas:\", train_dataset.classes)"
   ]
  },
  {
   "cell_type": "code",
   "execution_count": 15,
   "metadata": {},
   "outputs": [
    {
     "name": "stderr",
     "output_type": "stream",
     "text": [
      "c:\\Users\\Raxie\\anaconda3\\Lib\\site-packages\\torchvision\\models\\_utils.py:208: UserWarning: The parameter 'pretrained' is deprecated since 0.13 and may be removed in the future, please use 'weights' instead.\n",
      "  warnings.warn(\n",
      "c:\\Users\\Raxie\\anaconda3\\Lib\\site-packages\\torchvision\\models\\_utils.py:223: UserWarning: Arguments other than a weight enum or `None` for 'weights' are deprecated since 0.13 and may be removed in the future. The current behavior is equivalent to passing `weights=ResNet18_Weights.IMAGENET1K_V1`. You can also use `weights=ResNet18_Weights.DEFAULT` to get the most up-to-date weights.\n",
      "  warnings.warn(msg)\n",
      "Downloading: \"https://download.pytorch.org/models/resnet18-f37072fd.pth\" to C:\\Users\\Raxie/.cache\\torch\\hub\\checkpoints\\resnet18-f37072fd.pth\n",
      "100%|██████████| 44.7M/44.7M [00:00<00:00, 85.1MB/s]\n"
     ]
    }
   ],
   "source": [
    "# Cargar modelo ResNet-18 preentrenado\n",
    "num_classes = 6  # Tenemos 6 categorías\n",
    "model = models.resnet18(pretrained=True)\n",
    "model.fc = nn.Linear(model.fc.in_features, num_classes)  # Modificar capa final para 6 clases\n",
    "model = model.to(device)"
   ]
  },
  {
   "cell_type": "code",
   "execution_count": 16,
   "metadata": {},
   "outputs": [],
   "source": [
    "# Definir función de pérdida y optimizador\n",
    "criterion = nn.CrossEntropyLoss()\n",
    "optimizer = optim.Adam(model.parameters(), lr=0.001)"
   ]
  },
  {
   "cell_type": "code",
   "execution_count": 17,
   "metadata": {},
   "outputs": [
    {
     "name": "stdout",
     "output_type": "stream",
     "text": [
      "Epoch 1/10, Loss: 0.3719, Acc: 87.34%, Time: 131.21s\n",
      "Epoch 2/10, Loss: 0.1878, Acc: 93.43%, Time: 121.63s\n",
      "Epoch 3/10, Loss: 0.1721, Acc: 94.17%, Time: 122.05s\n",
      "Epoch 4/10, Loss: 0.1435, Acc: 95.24%, Time: 118.04s\n",
      "Epoch 5/10, Loss: 0.0938, Acc: 96.93%, Time: 119.10s\n",
      "Epoch 6/10, Loss: 0.0750, Acc: 97.46%, Time: 136.66s\n",
      "Epoch 7/10, Loss: 0.0749, Acc: 97.40%, Time: 136.62s\n",
      "Epoch 8/10, Loss: 0.0703, Acc: 97.46%, Time: 147.11s\n",
      "Epoch 9/10, Loss: 0.0681, Acc: 97.44%, Time: 151.11s\n",
      "Epoch 10/10, Loss: 0.0493, Acc: 98.53%, Time: 148.51s\n"
     ]
    }
   ],
   "source": [
    "# Entrenamiento del modelo\n",
    "num_epochs = 10\n",
    "for epoch in range(num_epochs):\n",
    "    model.train()\n",
    "    running_loss = 0.0\n",
    "    correct = 0\n",
    "    total = 0\n",
    "    start_time = time.time()\n",
    "    for images, labels in train_loader:\n",
    "        images, labels = images.to(device), labels.to(device)\n",
    "        optimizer.zero_grad()\n",
    "        outputs = model(images)\n",
    "        loss = criterion(outputs, labels)\n",
    "        loss.backward()\n",
    "        optimizer.step()\n",
    "        running_loss += loss.item()\n",
    "        _, predicted = torch.max(outputs, 1)\n",
    "        total += labels.size(0)\n",
    "        correct += (predicted == labels).sum().item()\n",
    "    acc = 100 * correct / total\n",
    "    print(f\"Epoch {epoch+1}/{num_epochs}, Loss: {running_loss/len(train_loader):.4f}, Acc: {acc:.2f}%, Time: {time.time() - start_time:.2f}s\")"
   ]
  },
  {
   "cell_type": "code",
   "execution_count": 18,
   "metadata": {},
   "outputs": [
    {
     "name": "stdout",
     "output_type": "stream",
     "text": [
      "Accuracy en validación: 94.66%\n"
     ]
    }
   ],
   "source": [
    "# Evaluación del modelo en validación\n",
    "model.eval()\n",
    "correct = 0\n",
    "total = 0\n",
    "with torch.no_grad():\n",
    "    for images, labels in valid_loader:\n",
    "        images, labels = images.to(device), labels.to(device)\n",
    "        outputs = model(images)\n",
    "        _, predicted = torch.max(outputs, 1)\n",
    "        total += labels.size(0)\n",
    "        correct += (predicted == labels).sum().item()\n",
    "val_acc = 100 * correct / total\n",
    "print(f\"Accuracy en validación: {val_acc:.2f}%\")"
   ]
  },
  {
   "cell_type": "code",
   "execution_count": 19,
   "metadata": {},
   "outputs": [
    {
     "name": "stdout",
     "output_type": "stream",
     "text": [
      "Modelo guardado como 'Modelo_MadurezPlatano.pth'\n"
     ]
    }
   ],
   "source": [
    "# Guardar el modelo entrenado\n",
    "torch.save(model.state_dict(), \"Modelo_MadurezPlatano.pth\")\n",
    "print(\"Modelo guardado como 'Modelo_MadurezPlatano.pth'\")"
   ]
  },
  {
   "cell_type": "code",
   "execution_count": 2,
   "metadata": {},
   "outputs": [
    {
     "name": "stdout",
     "output_type": "stream",
     "text": [
      "Requirement already satisfied: cuda-python in c:\\users\\raxie\\anaconda3\\lib\\site-packages (12.8.0)\n",
      "Requirement already satisfied: cuda-bindings~=12.8.0 in c:\\users\\raxie\\anaconda3\\lib\\site-packages (from cuda-python) (12.8.0)\n",
      "Requirement already satisfied: pywin32 in c:\\users\\raxie\\anaconda3\\lib\\site-packages (from cuda-bindings~=12.8.0->cuda-python) (305.1)\n"
     ]
    }
   ],
   "source": [
    "! pip install cuda-python"
   ]
  },
  {
   "cell_type": "code",
   "execution_count": 8,
   "metadata": {},
   "outputs": [
    {
     "name": "stdout",
     "output_type": "stream",
     "text": [
      "Device: cpu\n"
     ]
    }
   ],
   "source": [
    "import torch\n",
    "device = torch.device(\"cuda\" if torch.cuda.is_available() else \"cpu\")\n",
    "print(\"Device:\", device)"
   ]
  },
  {
   "cell_type": "code",
   "execution_count": 2,
   "metadata": {},
   "outputs": [
    {
     "name": "stdout",
     "output_type": "stream",
     "text": [
      "nvcc: NVIDIA (R) Cuda compiler driver\n",
      "Copyright (c) 2005-2025 NVIDIA Corporation\n",
      "Built on Fri_Feb_21_20:42:46_Pacific_Standard_Time_2025\n",
      "Cuda compilation tools, release 12.8, V12.8.93\n",
      "Build cuda_12.8.r12.8/compiler.35583870_0\n"
     ]
    }
   ],
   "source": [
    "! nvcc --version"
   ]
  },
  {
   "cell_type": "code",
   "execution_count": 3,
   "metadata": {},
   "outputs": [
    {
     "name": "stderr",
     "output_type": "stream",
     "text": [
      "OMP: Error #15: Initializing libiomp5md.dll, but found libiomp5md.dll already initialized.\n",
      "OMP: Hint This means that multiple copies of the OpenMP runtime have been linked into the program. That is dangerous, since it can degrade performance or cause incorrect results. The best thing to do is to ensure that only a single OpenMP runtime is linked into the process, e.g. by avoiding static linking of the OpenMP runtime in any library. As an unsafe, unsupported, undocumented workaround you can set the environment variable KMP_DUPLICATE_LIB_OK=TRUE to allow the program to continue to execute, but that may cause crashes or silently produce incorrect results. For more information, please see http://www.intel.com/software/products/support/.\n"
     ]
    }
   ],
   "source": [
    "! python -c \"import torch; print(torch.cuda.is_available())\""
   ]
  },
  {
   "cell_type": "code",
   "execution_count": 4,
   "metadata": {},
   "outputs": [
    {
     "ename": "",
     "evalue": "",
     "output_type": "error",
     "traceback": [
      "\u001b[1;31mEl kernel se bloqueó al ejecutar código en la celda actual o en una celda anterior. \n",
      "\u001b[1;31mRevise el código de las celdas para identificar una posible causa del error. \n",
      "\u001b[1;31mHaga clic <a href='https://aka.ms/vscodeJupyterKernelCrash'>aquí</a> para obtener más información. \n",
      "\u001b[1;31mVea Jupyter <a href='command:jupyter.viewOutput'>log</a> para obtener más detalles."
     ]
    }
   ],
   "source": [
    "import torch\n",
    "print(\"CUDA disponible:\", torch.cuda.is_available())\n",
    "print(\"Versión de CUDA:\", torch.version.cuda)\n",
    "print(\"Dispositivos CUDA:\", torch.cuda.device_count())\n",
    "print(\"Nombre de la GPU:\", torch.cuda.get_device_name(0) if torch.cuda.is_available() else \"No detectada\")"
   ]
  },
  {
   "cell_type": "code",
   "execution_count": null,
   "metadata": {},
   "outputs": [],
   "source": []
  }
 ],
 "metadata": {
  "kernelspec": {
   "display_name": "base",
   "language": "python",
   "name": "python3"
  },
  "language_info": {
   "codemirror_mode": {
    "name": "ipython",
    "version": 3
   },
   "file_extension": ".py",
   "mimetype": "text/x-python",
   "name": "python",
   "nbconvert_exporter": "python",
   "pygments_lexer": "ipython3",
   "version": "3.12.7"
  }
 },
 "nbformat": 4,
 "nbformat_minor": 2
}
