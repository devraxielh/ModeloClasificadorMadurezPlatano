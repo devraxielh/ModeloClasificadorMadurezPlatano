{
 "cells": [
  {
   "cell_type": "code",
   "execution_count": 5,
   "metadata": {},
   "outputs": [
    {
     "name": "stdout",
     "output_type": "stream",
     "text": [
      "CUDA disponible: False\n",
      "Versión de CUDA: None\n",
      "Nombre de la GPU: No detectada\n",
      "CUDA disponible: False\n",
      "Número de GPUs: 0\n",
      "Versión de PyTorch: 2.6.0+cpu\n",
      "CUDA disponible: False\n",
      "Versión de CUDA en PyTorch: None\n",
      "Nombre de la GPU: No detectada\n"
     ]
    }
   ],
   "source": [
    "import torch\n",
    "print(\"CUDA disponible:\", torch.cuda.is_available())\n",
    "print(\"Versión de CUDA:\", torch.version.cuda)\n",
    "print(\"Nombre de la GPU:\", torch.cuda.get_device_name(0) if torch.cuda.is_available() else \"No detectada\")\n",
    "print(\"CUDA disponible:\", torch.cuda.is_available())\n",
    "print(\"Número de GPUs:\", torch.cuda.device_count())\n",
    "torch.backends.cudnn.benchmark = True  # Optimiza el uso de la GPU\n",
    "torch.cuda.empty_cache()  # Libera memoria de GPU antes de entrenar\n",
    "print(\"Versión de PyTorch:\", torch.__version__)\n",
    "print(\"CUDA disponible:\", torch.cuda.is_available())\n",
    "print(\"Versión de CUDA en PyTorch:\", torch.version.cuda)\n",
    "print(\"Nombre de la GPU:\", torch.cuda.get_device_name(0) if torch.cuda.is_available() else \"No detectada\")"
   ]
  },
  {
   "cell_type": "code",
   "execution_count": null,
   "metadata": {},
   "outputs": [
    {
     "name": "stdout",
     "output_type": "stream",
     "text": [
      "Clases detectadas: ['freshripe', 'freshunripe', 'overripe', 'ripe', 'rotten', 'unripe']\n",
      "Epoch 1/10, Loss: 0.3148, Acc: 89.09%, Time: 25.41s\n",
      "Epoch 2/10, Loss: 0.1638, Acc: 95.06%, Time: 25.38s\n",
      "Epoch 3/10, Loss: 0.1018, Acc: 96.73%, Time: 25.56s\n",
      "Epoch 4/10, Loss: 0.1105, Acc: 96.31%, Time: 25.25s\n",
      "Epoch 5/10, Loss: 0.0890, Acc: 97.40%, Time: 25.42s\n",
      "Epoch 6/10, Loss: 0.0910, Acc: 96.71%, Time: 25.65s\n"
     ]
    },
    {
     "name": "stderr",
     "output_type": "stream",
     "text": [
      "Exception ignored in: <function _MultiProcessingDataLoaderIter.__del__ at 0x00000204A6A140D0>\n",
      "Traceback (most recent call last):\n",
      "  File \"c:\\Users\\Raxie\\anaconda3\\envs\\IA\\lib\\site-packages\\torch\\utils\\data\\dataloader.py\", line 1604, in __del__\n",
      "    self._shutdown_workers()\n",
      "  File \"c:\\Users\\Raxie\\anaconda3\\envs\\IA\\lib\\site-packages\\torch\\utils\\data\\dataloader.py\", line 1562, in _shutdown_workers\n",
      "    if self._persistent_workers or self._workers_status[worker_id]:\n",
      "AttributeError: '_MultiProcessingDataLoaderIter' object has no attribute '_workers_status'\n"
     ]
    }
   ],
   "source": [
    "import torch\n",
    "import torch.nn as nn\n",
    "import torch.optim as optim\n",
    "import torchvision.transforms as transforms\n",
    "from torchvision import datasets, models\n",
    "from torchvision.models import resnet18, ResNet18_Weights\n",
    "from torch.utils.data import DataLoader\n",
    "import time\n",
    "device = torch.device(\"cuda\" if torch.cuda.is_available() else \"cpu\")\n",
    "# Transformaciones para normalizar imágenes (Requeridas por ResNet)\n",
    "transform = transforms.Compose([\n",
    "    transforms.Resize((224, 224)),  # Redimensionar imágenes\n",
    "    transforms.ToTensor(),  # Convertir a tensores\n",
    "    transforms.Normalize(mean=[0.485, 0.456, 0.406], std=[0.229, 0.224, 0.225])  # Normalización de ResNet\n",
    "])\n",
    "# Rutas a los conjuntos de entrenamiento y validación\n",
    "train_dir = \"./Data/train\"\n",
    "valid_dir = \"./Data/valid\"\n",
    "# Cargar imágenes desde carpetas (PyTorch usa estructura basada en subcarpetas para cada clase)\n",
    "train_dataset = datasets.ImageFolder(root=train_dir, transform=transform)\n",
    "valid_dataset = datasets.ImageFolder(root=valid_dir, transform=transform)\n",
    "# Definir DataLoaders\n",
    "batch_size = 64\n",
    "train_loader = DataLoader(train_dataset, batch_size=batch_size, shuffle=True, num_workers=2)\n",
    "valid_loader = DataLoader(valid_dataset, batch_size=batch_size, shuffle=False, num_workers=2)\n",
    "# Verificar categorías detectadas\n",
    "print(\"Clases detectadas:\", train_dataset.classes)\n",
    "# Definir modelo y modificar la última capa\n",
    "num_classes = 6  # Número de categorías\n",
    "model = resnet18(weights=ResNet18_Weights.IMAGENET1K_V1)\n",
    "model.fc = torch.nn.Linear(model.fc.in_features, num_classes)  # Ajustar capa final\n",
    "model = model.to(device)\n",
    "# Definir función de pérdida y optimizador\n",
    "criterion = nn.CrossEntropyLoss()\n",
    "optimizer = optim.Adam(model.parameters(), lr=0.001)\n",
    "# Entrenamiento del modelo\n",
    "num_epochs = 2\n",
    "for epoch in range(num_epochs):\n",
    "    model.train()\n",
    "    running_loss = 0.0\n",
    "    correct = 0\n",
    "    total = 0\n",
    "    start_time = time.time()\n",
    "    for images, labels in train_loader:\n",
    "        images, labels = images.to(device), labels.to(device)\n",
    "        optimizer.zero_grad()\n",
    "        outputs = model(images)\n",
    "        loss = criterion(outputs, labels)\n",
    "        loss.backward()\n",
    "        optimizer.step()\n",
    "        running_loss += loss.item()\n",
    "        _, predicted = torch.max(outputs, 1)\n",
    "        total += labels.size(0)\n",
    "        correct += (predicted == labels).sum().item()\n",
    "    acc = 100 * correct / total\n",
    "    print(f\"Epoch {epoch+1}/{num_epochs}, Loss: {running_loss/len(train_loader):.4f}, Acc: {acc:.2f}%, Time: {time.time() - start_time:.2f}s\")\n",
    "# Definir función de pérdida y optimizador\n",
    "criterion = nn.CrossEntropyLoss()\n",
    "optimizer = optim.Adam(model.parameters(), lr=0.001)"
   ]
  },
  {
   "cell_type": "code",
   "execution_count": null,
   "metadata": {},
   "outputs": [],
   "source": []
  }
 ],
 "metadata": {
  "kernelspec": {
   "display_name": "Python 3",
   "language": "python",
   "name": "python3"
  },
  "language_info": {
   "codemirror_mode": {
    "name": "ipython",
    "version": 3
   },
   "file_extension": ".py",
   "mimetype": "text/x-python",
   "name": "python",
   "nbconvert_exporter": "python",
   "pygments_lexer": "ipython3",
   "version": "3.13.2"
  }
 },
 "nbformat": 4,
 "nbformat_minor": 2
}
