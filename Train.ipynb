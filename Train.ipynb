{
 "cells": [
  {
   "cell_type": "code",
   "execution_count": 1,
   "metadata": {},
   "outputs": [
    {
     "name": "stdout",
     "output_type": "stream",
     "text": [
      "CUDA disponible: True\n",
      "Versión de CUDA: 12.1\n",
      "Nombre de la GPU: NVIDIA GeForce RTX 4090\n",
      "CUDA disponible: True\n",
      "Número de GPUs: 1\n",
      "Versión de PyTorch: 2.5.1\n",
      "CUDA disponible: True\n",
      "Versión de CUDA en PyTorch: 12.1\n",
      "Nombre de la GPU: NVIDIA GeForce RTX 4090\n"
     ]
    }
   ],
   "source": [
    "import torch\n",
    "print(\"CUDA disponible:\", torch.cuda.is_available())\n",
    "print(\"Versión de CUDA:\", torch.version.cuda)\n",
    "print(\"Nombre de la GPU:\", torch.cuda.get_device_name(0) if torch.cuda.is_available() else \"No detectada\")\n",
    "print(\"CUDA disponible:\", torch.cuda.is_available())\n",
    "print(\"Número de GPUs:\", torch.cuda.device_count())\n",
    "torch.backends.cudnn.benchmark = True  # Optimiza el uso de la GPU\n",
    "torch.cuda.empty_cache()  # Libera memoria de GPU antes de entrenar\n",
    "print(\"Versión de PyTorch:\", torch.__version__)\n",
    "print(\"CUDA disponible:\", torch.cuda.is_available())\n",
    "print(\"Versión de CUDA en PyTorch:\", torch.version.cuda)\n",
    "print(\"Nombre de la GPU:\", torch.cuda.get_device_name(0) if torch.cuda.is_available() else \"No detectada\")"
   ]
  },
  {
   "cell_type": "code",
   "execution_count": 2,
   "metadata": {},
   "outputs": [
    {
     "name": "stdout",
     "output_type": "stream",
     "text": [
      "Clases detectadas: ['freshripe', 'freshunripe', 'overripe', 'ripe', 'rotten', 'unripe']\n",
      "Epoch 1/20, Loss: 0.2959, Acc: 90.25%, Time: 34.59s\n",
      "Epoch 2/20, Loss: 0.1438, Acc: 94.93%, Time: 31.37s\n",
      "Epoch 3/20, Loss: 0.0914, Acc: 97.24%, Time: 25.25s\n",
      "Epoch 4/20, Loss: 0.1115, Acc: 96.33%, Time: 26.30s\n",
      "Epoch 5/20, Loss: 0.1071, Acc: 96.35%, Time: 25.43s\n",
      "Epoch 6/20, Loss: 0.0622, Acc: 98.11%, Time: 25.38s\n",
      "Epoch 7/20, Loss: 0.0523, Acc: 98.53%, Time: 30.78s\n",
      "Epoch 8/20, Loss: 0.0872, Acc: 96.84%, Time: 32.19s\n",
      "Epoch 9/20, Loss: 0.0483, Acc: 98.29%, Time: 29.06s\n",
      "Epoch 10/20, Loss: 0.0431, Acc: 98.78%, Time: 31.03s\n",
      "Epoch 11/20, Loss: 0.0590, Acc: 98.13%, Time: 31.37s\n",
      "Epoch 12/20, Loss: 0.0265, Acc: 99.11%, Time: 29.72s\n",
      "Epoch 13/20, Loss: 0.0262, Acc: 99.24%, Time: 31.54s\n",
      "Epoch 14/20, Loss: 0.0451, Acc: 98.78%, Time: 31.47s\n",
      "Epoch 15/20, Loss: 0.0602, Acc: 98.44%, Time: 29.59s\n",
      "Epoch 16/20, Loss: 0.0602, Acc: 98.06%, Time: 28.67s\n",
      "Epoch 17/20, Loss: 0.0240, Acc: 99.38%, Time: 31.21s\n",
      "Epoch 18/20, Loss: 0.0157, Acc: 99.42%, Time: 29.40s\n",
      "Epoch 19/20, Loss: 0.0151, Acc: 99.47%, Time: 29.68s\n",
      "Epoch 20/20, Loss: 0.0141, Acc: 99.51%, Time: 31.91s\n",
      "Accuracy en validación: 96.08%\n",
      "Modelo guardado como 'Modelo_MadurezPlatano.pth'\n"
     ]
    }
   ],
   "source": [
    "import torch\n",
    "import torch.nn as nn\n",
    "import torch.optim as optim\n",
    "import torchvision.transforms as transforms\n",
    "from torchvision import datasets, models\n",
    "from torchvision.models import resnet18, ResNet18_Weights\n",
    "from torch.utils.data import DataLoader\n",
    "import time\n",
    "device = torch.device(\"cuda\" if torch.cuda.is_available() else \"cpu\")\n",
    "# Transformaciones para normalizar imágenes (Requeridas por ResNet)\n",
    "transform = transforms.Compose([\n",
    "    transforms.Resize((224, 224)),  # Redimensionar imágenes\n",
    "    transforms.ToTensor(),  # Convertir a tensores\n",
    "    transforms.Normalize(mean=[0.485, 0.456, 0.406], std=[0.229, 0.224, 0.225])  # Normalización de ResNet\n",
    "])\n",
    "# Rutas a los conjuntos de entrenamiento y validación\n",
    "train_dir = \"./Data/train\"\n",
    "valid_dir = \"./Data/valid\"\n",
    "# Cargar imágenes desde carpetas (PyTorch usa estructura basada en subcarpetas para cada clase)\n",
    "train_dataset = datasets.ImageFolder(root=train_dir, transform=transform)\n",
    "valid_dataset = datasets.ImageFolder(root=valid_dir, transform=transform)\n",
    "# Definir DataLoaders\n",
    "batch_size = 64\n",
    "train_loader = DataLoader(train_dataset, batch_size=batch_size, shuffle=True, num_workers=2)\n",
    "valid_loader = DataLoader(valid_dataset, batch_size=batch_size, shuffle=False, num_workers=2)\n",
    "# Verificar categorías detectadas\n",
    "print(\"Clases detectadas:\", train_dataset.classes)\n",
    "# Definir modelo y modificar la última capa\n",
    "num_classes = 6  # Número de categorías\n",
    "model = resnet18(weights=ResNet18_Weights.IMAGENET1K_V1)\n",
    "model.fc = torch.nn.Linear(model.fc.in_features, num_classes)  # Ajustar capa final\n",
    "model = model.to(device)\n",
    "# Definir función de pérdida y optimizador\n",
    "criterion = nn.CrossEntropyLoss()\n",
    "optimizer = optim.Adam(model.parameters(), lr=0.001)\n",
    "# Entrenamiento del modelo\n",
    "num_epochs = 20\n",
    "for epoch in range(num_epochs):\n",
    "    model.train()\n",
    "    running_loss = 0.0\n",
    "    correct = 0\n",
    "    total = 0\n",
    "    start_time = time.time()\n",
    "    for images, labels in train_loader:\n",
    "        images, labels = images.to(device), labels.to(device)\n",
    "        optimizer.zero_grad()\n",
    "        outputs = model(images)\n",
    "        loss = criterion(outputs, labels)\n",
    "        loss.backward()\n",
    "        optimizer.step()\n",
    "        running_loss += loss.item()\n",
    "        _, predicted = torch.max(outputs, 1)\n",
    "        total += labels.size(0)\n",
    "        correct += (predicted == labels).sum().item()\n",
    "    acc = 100 * correct / total\n",
    "    print(f\"Epoch {epoch+1}/{num_epochs}, Loss: {running_loss/len(train_loader):.4f}, Acc: {acc:.2f}%, Time: {time.time() - start_time:.2f}s\")\n",
    "# Evaluación del modelo en validación\n",
    "model.eval()\n",
    "correct = 0\n",
    "total = 0\n",
    "with torch.no_grad():\n",
    "    for images, labels in valid_loader:\n",
    "        images, labels = images.to(device), labels.to(device)\n",
    "        outputs = model(images)\n",
    "        _, predicted = torch.max(outputs, 1)\n",
    "        total += labels.size(0)\n",
    "        correct += (predicted == labels).sum().item()\n",
    "val_acc = 100 * correct / total\n",
    "print(f\"Accuracy en validación: {val_acc:.2f}%\")\n",
    "# Guardar el modelo entrenado\n",
    "torch.save(model.state_dict(), \"Modelo_MadurezPlatano.pth\")\n",
    "print(\"Modelo guardado como 'Modelo_MadurezPlatano.pth'\")"
   ]
  },
  {
   "cell_type": "code",
   "execution_count": null,
   "metadata": {},
   "outputs": [],
   "source": []
  }
 ],
 "metadata": {
  "kernelspec": {
   "display_name": "IA",
   "language": "python",
   "name": "python3"
  },
  "language_info": {
   "codemirror_mode": {
    "name": "ipython",
    "version": 3
   },
   "file_extension": ".py",
   "mimetype": "text/x-python",
   "name": "python",
   "nbconvert_exporter": "python",
   "pygments_lexer": "ipython3",
   "version": "3.10.16"
  }
 },
 "nbformat": 4,
 "nbformat_minor": 2
}
